{
 "cells": [
  {
   "cell_type": "markdown",
   "id": "225583f9",
   "metadata": {},
   "source": [
    "# Analysis and Visualization of Covid19 Data in U.K."
   ]
  },
  {
   "cell_type": "markdown",
   "id": "413cc897",
   "metadata": {},
   "source": [
    "## Data Source"
   ]
  },
  {
   "cell_type": "markdown",
   "id": "e7e197bf",
   "metadata": {},
   "source": [
    "The data is from [European Centre for Disease Prevention and Control](https://www.ecdc.europa.eu/en/publications-data/download-todays-data-geographic-distribution-covid-19-cases-worldwide)"
   ]
  },
  {
   "cell_type": "markdown",
   "id": "3842fcc3",
   "metadata": {},
   "source": [
    "![U.K. Flag image](https://upload.wikimedia.org/wikipedia/en/thumb/a/ae/Flag_of_the_United_Kingdom.svg/1200px-Flag_of_the_United_Kingdom.svg.png)"
   ]
  },
  {
   "cell_type": "code",
   "execution_count": 1,
   "id": "e939cb28",
   "metadata": {},
   "outputs": [],
   "source": [
    "%matplotlib inline\n",
    "import pandas"
   ]
  },
  {
   "cell_type": "markdown",
   "id": "4182af31",
   "metadata": {},
   "source": [
    "## Quick View of the Data"
   ]
  },
  {
   "cell_type": "code",
   "execution_count": 4,
   "id": "4121dfb7",
   "metadata": {},
   "outputs": [
    {
     "data": {
      "text/html": [
       "<div>\n",
       "<style scoped>\n",
       "    .dataframe tbody tr th:only-of-type {\n",
       "        vertical-align: middle;\n",
       "    }\n",
       "\n",
       "    .dataframe tbody tr th {\n",
       "        vertical-align: top;\n",
       "    }\n",
       "\n",
       "    .dataframe thead th {\n",
       "        text-align: right;\n",
       "    }\n",
       "</style>\n",
       "<table border=\"1\" class=\"dataframe\">\n",
       "  <thead>\n",
       "    <tr style=\"text-align: right;\">\n",
       "      <th></th>\n",
       "      <th>dateRep</th>\n",
       "      <th>day</th>\n",
       "      <th>month</th>\n",
       "      <th>year</th>\n",
       "      <th>cases</th>\n",
       "      <th>deaths</th>\n",
       "      <th>countriesAndTerritories</th>\n",
       "      <th>geoId</th>\n",
       "      <th>countryterritoryCode</th>\n",
       "      <th>popData2019</th>\n",
       "      <th>continentExp</th>\n",
       "      <th>Cumulative_number_for_14_days_of_COVID-19_cases_per_100000</th>\n",
       "    </tr>\n",
       "  </thead>\n",
       "  <tbody>\n",
       "    <tr>\n",
       "      <th>0</th>\n",
       "      <td>2020-12-14</td>\n",
       "      <td>14</td>\n",
       "      <td>12</td>\n",
       "      <td>2020</td>\n",
       "      <td>746</td>\n",
       "      <td>6</td>\n",
       "      <td>Afghanistan</td>\n",
       "      <td>AF</td>\n",
       "      <td>AFG</td>\n",
       "      <td>38041757.0</td>\n",
       "      <td>Asia</td>\n",
       "      <td>9.013779</td>\n",
       "    </tr>\n",
       "    <tr>\n",
       "      <th>1</th>\n",
       "      <td>2020-12-13</td>\n",
       "      <td>13</td>\n",
       "      <td>12</td>\n",
       "      <td>2020</td>\n",
       "      <td>298</td>\n",
       "      <td>9</td>\n",
       "      <td>Afghanistan</td>\n",
       "      <td>AF</td>\n",
       "      <td>AFG</td>\n",
       "      <td>38041757.0</td>\n",
       "      <td>Asia</td>\n",
       "      <td>7.052776</td>\n",
       "    </tr>\n",
       "    <tr>\n",
       "      <th>2</th>\n",
       "      <td>2020-12-12</td>\n",
       "      <td>12</td>\n",
       "      <td>12</td>\n",
       "      <td>2020</td>\n",
       "      <td>113</td>\n",
       "      <td>11</td>\n",
       "      <td>Afghanistan</td>\n",
       "      <td>AF</td>\n",
       "      <td>AFG</td>\n",
       "      <td>38041757.0</td>\n",
       "      <td>Asia</td>\n",
       "      <td>6.868768</td>\n",
       "    </tr>\n",
       "    <tr>\n",
       "      <th>3</th>\n",
       "      <td>2020-12-11</td>\n",
       "      <td>11</td>\n",
       "      <td>12</td>\n",
       "      <td>2020</td>\n",
       "      <td>63</td>\n",
       "      <td>10</td>\n",
       "      <td>Afghanistan</td>\n",
       "      <td>AF</td>\n",
       "      <td>AFG</td>\n",
       "      <td>38041757.0</td>\n",
       "      <td>Asia</td>\n",
       "      <td>7.134266</td>\n",
       "    </tr>\n",
       "    <tr>\n",
       "      <th>4</th>\n",
       "      <td>2020-12-10</td>\n",
       "      <td>10</td>\n",
       "      <td>12</td>\n",
       "      <td>2020</td>\n",
       "      <td>202</td>\n",
       "      <td>16</td>\n",
       "      <td>Afghanistan</td>\n",
       "      <td>AF</td>\n",
       "      <td>AFG</td>\n",
       "      <td>38041757.0</td>\n",
       "      <td>Asia</td>\n",
       "      <td>6.968658</td>\n",
       "    </tr>\n",
       "    <tr>\n",
       "      <th>5</th>\n",
       "      <td>2020-12-09</td>\n",
       "      <td>9</td>\n",
       "      <td>12</td>\n",
       "      <td>2020</td>\n",
       "      <td>135</td>\n",
       "      <td>13</td>\n",
       "      <td>Afghanistan</td>\n",
       "      <td>AF</td>\n",
       "      <td>AFG</td>\n",
       "      <td>38041757.0</td>\n",
       "      <td>Asia</td>\n",
       "      <td>6.963401</td>\n",
       "    </tr>\n",
       "    <tr>\n",
       "      <th>6</th>\n",
       "      <td>2020-12-08</td>\n",
       "      <td>8</td>\n",
       "      <td>12</td>\n",
       "      <td>2020</td>\n",
       "      <td>200</td>\n",
       "      <td>6</td>\n",
       "      <td>Afghanistan</td>\n",
       "      <td>AF</td>\n",
       "      <td>AFG</td>\n",
       "      <td>38041757.0</td>\n",
       "      <td>Asia</td>\n",
       "      <td>7.094835</td>\n",
       "    </tr>\n",
       "    <tr>\n",
       "      <th>7</th>\n",
       "      <td>2020-12-07</td>\n",
       "      <td>7</td>\n",
       "      <td>12</td>\n",
       "      <td>2020</td>\n",
       "      <td>210</td>\n",
       "      <td>26</td>\n",
       "      <td>Afghanistan</td>\n",
       "      <td>AF</td>\n",
       "      <td>AFG</td>\n",
       "      <td>38041757.0</td>\n",
       "      <td>Asia</td>\n",
       "      <td>7.215755</td>\n",
       "    </tr>\n",
       "    <tr>\n",
       "      <th>8</th>\n",
       "      <td>2020-12-06</td>\n",
       "      <td>6</td>\n",
       "      <td>12</td>\n",
       "      <td>2020</td>\n",
       "      <td>234</td>\n",
       "      <td>10</td>\n",
       "      <td>Afghanistan</td>\n",
       "      <td>AF</td>\n",
       "      <td>AFG</td>\n",
       "      <td>38041757.0</td>\n",
       "      <td>Asia</td>\n",
       "      <td>7.326160</td>\n",
       "    </tr>\n",
       "    <tr>\n",
       "      <th>9</th>\n",
       "      <td>2020-12-05</td>\n",
       "      <td>5</td>\n",
       "      <td>12</td>\n",
       "      <td>2020</td>\n",
       "      <td>235</td>\n",
       "      <td>18</td>\n",
       "      <td>Afghanistan</td>\n",
       "      <td>AF</td>\n",
       "      <td>AFG</td>\n",
       "      <td>38041757.0</td>\n",
       "      <td>Asia</td>\n",
       "      <td>7.115865</td>\n",
       "    </tr>\n",
       "  </tbody>\n",
       "</table>\n",
       "</div>"
      ],
      "text/plain": [
       "     dateRep  day  month  year  cases  deaths countriesAndTerritories geoId  \\\n",
       "0 2020-12-14   14     12  2020    746       6             Afghanistan    AF   \n",
       "1 2020-12-13   13     12  2020    298       9             Afghanistan    AF   \n",
       "2 2020-12-12   12     12  2020    113      11             Afghanistan    AF   \n",
       "3 2020-12-11   11     12  2020     63      10             Afghanistan    AF   \n",
       "4 2020-12-10   10     12  2020    202      16             Afghanistan    AF   \n",
       "5 2020-12-09    9     12  2020    135      13             Afghanistan    AF   \n",
       "6 2020-12-08    8     12  2020    200       6             Afghanistan    AF   \n",
       "7 2020-12-07    7     12  2020    210      26             Afghanistan    AF   \n",
       "8 2020-12-06    6     12  2020    234      10             Afghanistan    AF   \n",
       "9 2020-12-05    5     12  2020    235      18             Afghanistan    AF   \n",
       "\n",
       "  countryterritoryCode  popData2019 continentExp  \\\n",
       "0                  AFG   38041757.0         Asia   \n",
       "1                  AFG   38041757.0         Asia   \n",
       "2                  AFG   38041757.0         Asia   \n",
       "3                  AFG   38041757.0         Asia   \n",
       "4                  AFG   38041757.0         Asia   \n",
       "5                  AFG   38041757.0         Asia   \n",
       "6                  AFG   38041757.0         Asia   \n",
       "7                  AFG   38041757.0         Asia   \n",
       "8                  AFG   38041757.0         Asia   \n",
       "9                  AFG   38041757.0         Asia   \n",
       "\n",
       "   Cumulative_number_for_14_days_of_COVID-19_cases_per_100000  \n",
       "0                                           9.013779           \n",
       "1                                           7.052776           \n",
       "2                                           6.868768           \n",
       "3                                           7.134266           \n",
       "4                                           6.968658           \n",
       "5                                           6.963401           \n",
       "6                                           7.094835           \n",
       "7                                           7.215755           \n",
       "8                                           7.326160           \n",
       "9                                           7.115865           "
      ]
     },
     "execution_count": 4,
     "metadata": {},
     "output_type": "execute_result"
    }
   ],
   "source": [
    "df = pandas.read_excel('s3://robinson-ia241-2021spring/COVID-19-geographic-disbtribution-worldwide-2020-12-14 (1).xls')\n",
    "df[:10] #the top 10 rows"
   ]
  },
  {
   "cell_type": "code",
   "execution_count": 5,
   "id": "df14a3ac",
   "metadata": {},
   "outputs": [
    {
     "data": {
      "text/html": [
       "<div>\n",
       "<style scoped>\n",
       "    .dataframe tbody tr th:only-of-type {\n",
       "        vertical-align: middle;\n",
       "    }\n",
       "\n",
       "    .dataframe tbody tr th {\n",
       "        vertical-align: top;\n",
       "    }\n",
       "\n",
       "    .dataframe thead th {\n",
       "        text-align: right;\n",
       "    }\n",
       "</style>\n",
       "<table border=\"1\" class=\"dataframe\">\n",
       "  <thead>\n",
       "    <tr style=\"text-align: right;\">\n",
       "      <th></th>\n",
       "      <th>dateRep</th>\n",
       "      <th>day</th>\n",
       "      <th>month</th>\n",
       "      <th>year</th>\n",
       "      <th>cases</th>\n",
       "      <th>deaths</th>\n",
       "      <th>countriesAndTerritories</th>\n",
       "      <th>geoId</th>\n",
       "      <th>countryterritoryCode</th>\n",
       "      <th>popData2019</th>\n",
       "      <th>continentExp</th>\n",
       "      <th>Cumulative_number_for_14_days_of_COVID-19_cases_per_100000</th>\n",
       "    </tr>\n",
       "  </thead>\n",
       "  <tbody>\n",
       "    <tr>\n",
       "      <th>58378</th>\n",
       "      <td>2020-12-14</td>\n",
       "      <td>14</td>\n",
       "      <td>12</td>\n",
       "      <td>2020</td>\n",
       "      <td>18447</td>\n",
       "      <td>144</td>\n",
       "      <td>United_Kingdom</td>\n",
       "      <td>UK</td>\n",
       "      <td>GBR</td>\n",
       "      <td>66647112.0</td>\n",
       "      <td>Europe</td>\n",
       "      <td>348.216139</td>\n",
       "    </tr>\n",
       "    <tr>\n",
       "      <th>58379</th>\n",
       "      <td>2020-12-13</td>\n",
       "      <td>13</td>\n",
       "      <td>12</td>\n",
       "      <td>2020</td>\n",
       "      <td>21501</td>\n",
       "      <td>520</td>\n",
       "      <td>United_Kingdom</td>\n",
       "      <td>UK</td>\n",
       "      <td>GBR</td>\n",
       "      <td>66647112.0</td>\n",
       "      <td>Europe</td>\n",
       "      <td>338.775370</td>\n",
       "    </tr>\n",
       "    <tr>\n",
       "      <th>58380</th>\n",
       "      <td>2020-12-12</td>\n",
       "      <td>12</td>\n",
       "      <td>12</td>\n",
       "      <td>2020</td>\n",
       "      <td>21672</td>\n",
       "      <td>424</td>\n",
       "      <td>United_Kingdom</td>\n",
       "      <td>UK</td>\n",
       "      <td>GBR</td>\n",
       "      <td>66647112.0</td>\n",
       "      <td>Europe</td>\n",
       "      <td>330.327892</td>\n",
       "    </tr>\n",
       "    <tr>\n",
       "      <th>58381</th>\n",
       "      <td>2020-12-11</td>\n",
       "      <td>11</td>\n",
       "      <td>12</td>\n",
       "      <td>2020</td>\n",
       "      <td>20964</td>\n",
       "      <td>516</td>\n",
       "      <td>United_Kingdom</td>\n",
       "      <td>UK</td>\n",
       "      <td>GBR</td>\n",
       "      <td>66647112.0</td>\n",
       "      <td>Europe</td>\n",
       "      <td>319.925341</td>\n",
       "    </tr>\n",
       "    <tr>\n",
       "      <th>58382</th>\n",
       "      <td>2020-12-10</td>\n",
       "      <td>10</td>\n",
       "      <td>12</td>\n",
       "      <td>2020</td>\n",
       "      <td>16578</td>\n",
       "      <td>533</td>\n",
       "      <td>United_Kingdom</td>\n",
       "      <td>UK</td>\n",
       "      <td>GBR</td>\n",
       "      <td>66647112.0</td>\n",
       "      <td>Europe</td>\n",
       "      <td>314.810340</td>\n",
       "    </tr>\n",
       "    <tr>\n",
       "      <th>58383</th>\n",
       "      <td>2020-12-09</td>\n",
       "      <td>9</td>\n",
       "      <td>12</td>\n",
       "      <td>2020</td>\n",
       "      <td>12281</td>\n",
       "      <td>599</td>\n",
       "      <td>United_Kingdom</td>\n",
       "      <td>UK</td>\n",
       "      <td>GBR</td>\n",
       "      <td>66647112.0</td>\n",
       "      <td>Europe</td>\n",
       "      <td>317.263560</td>\n",
       "    </tr>\n",
       "    <tr>\n",
       "      <th>58384</th>\n",
       "      <td>2020-12-08</td>\n",
       "      <td>8</td>\n",
       "      <td>12</td>\n",
       "      <td>2020</td>\n",
       "      <td>14718</td>\n",
       "      <td>189</td>\n",
       "      <td>United_Kingdom</td>\n",
       "      <td>UK</td>\n",
       "      <td>GBR</td>\n",
       "      <td>66647112.0</td>\n",
       "      <td>Europe</td>\n",
       "      <td>315.790128</td>\n",
       "    </tr>\n",
       "    <tr>\n",
       "      <th>58385</th>\n",
       "      <td>2020-12-07</td>\n",
       "      <td>7</td>\n",
       "      <td>12</td>\n",
       "      <td>2020</td>\n",
       "      <td>17271</td>\n",
       "      <td>231</td>\n",
       "      <td>United_Kingdom</td>\n",
       "      <td>UK</td>\n",
       "      <td>GBR</td>\n",
       "      <td>66647112.0</td>\n",
       "      <td>Europe</td>\n",
       "      <td>316.888450</td>\n",
       "    </tr>\n",
       "    <tr>\n",
       "      <th>58386</th>\n",
       "      <td>2020-12-06</td>\n",
       "      <td>6</td>\n",
       "      <td>12</td>\n",
       "      <td>2020</td>\n",
       "      <td>15539</td>\n",
       "      <td>397</td>\n",
       "      <td>United_Kingdom</td>\n",
       "      <td>UK</td>\n",
       "      <td>GBR</td>\n",
       "      <td>66647112.0</td>\n",
       "      <td>Europe</td>\n",
       "      <td>318.975562</td>\n",
       "    </tr>\n",
       "    <tr>\n",
       "      <th>58387</th>\n",
       "      <td>2020-12-05</td>\n",
       "      <td>5</td>\n",
       "      <td>12</td>\n",
       "      <td>2020</td>\n",
       "      <td>16298</td>\n",
       "      <td>504</td>\n",
       "      <td>United_Kingdom</td>\n",
       "      <td>UK</td>\n",
       "      <td>GBR</td>\n",
       "      <td>66647112.0</td>\n",
       "      <td>Europe</td>\n",
       "      <td>325.481470</td>\n",
       "    </tr>\n",
       "  </tbody>\n",
       "</table>\n",
       "</div>"
      ],
      "text/plain": [
       "         dateRep  day  month  year  cases  deaths countriesAndTerritories  \\\n",
       "58378 2020-12-14   14     12  2020  18447     144          United_Kingdom   \n",
       "58379 2020-12-13   13     12  2020  21501     520          United_Kingdom   \n",
       "58380 2020-12-12   12     12  2020  21672     424          United_Kingdom   \n",
       "58381 2020-12-11   11     12  2020  20964     516          United_Kingdom   \n",
       "58382 2020-12-10   10     12  2020  16578     533          United_Kingdom   \n",
       "58383 2020-12-09    9     12  2020  12281     599          United_Kingdom   \n",
       "58384 2020-12-08    8     12  2020  14718     189          United_Kingdom   \n",
       "58385 2020-12-07    7     12  2020  17271     231          United_Kingdom   \n",
       "58386 2020-12-06    6     12  2020  15539     397          United_Kingdom   \n",
       "58387 2020-12-05    5     12  2020  16298     504          United_Kingdom   \n",
       "\n",
       "      geoId countryterritoryCode  popData2019 continentExp  \\\n",
       "58378    UK                  GBR   66647112.0       Europe   \n",
       "58379    UK                  GBR   66647112.0       Europe   \n",
       "58380    UK                  GBR   66647112.0       Europe   \n",
       "58381    UK                  GBR   66647112.0       Europe   \n",
       "58382    UK                  GBR   66647112.0       Europe   \n",
       "58383    UK                  GBR   66647112.0       Europe   \n",
       "58384    UK                  GBR   66647112.0       Europe   \n",
       "58385    UK                  GBR   66647112.0       Europe   \n",
       "58386    UK                  GBR   66647112.0       Europe   \n",
       "58387    UK                  GBR   66647112.0       Europe   \n",
       "\n",
       "       Cumulative_number_for_14_days_of_COVID-19_cases_per_100000  \n",
       "58378                                         348.216139           \n",
       "58379                                         338.775370           \n",
       "58380                                         330.327892           \n",
       "58381                                         319.925341           \n",
       "58382                                         314.810340           \n",
       "58383                                         317.263560           \n",
       "58384                                         315.790128           \n",
       "58385                                         316.888450           \n",
       "58386                                         318.975562           \n",
       "58387                                         325.481470           "
      ]
     },
     "execution_count": 5,
     "metadata": {},
     "output_type": "execute_result"
    }
   ],
   "source": [
    "uk_data = df.loc[df['countriesAndTerritories'] == 'United_Kingdom']\n",
    "uk_data[:10] #the top 10 rows"
   ]
  },
  {
   "cell_type": "markdown",
   "id": "388cb61d",
   "metadata": {},
   "source": [
    "## Number of Confirmed Covid19 Cases in U.K. as of December 2020"
   ]
  },
  {
   "cell_type": "code",
   "execution_count": 9,
   "id": "2267c90b",
   "metadata": {},
   "outputs": [
    {
     "data": {
      "text/plain": [
       "countriesAndTerritories\n",
       "United_Kingdom    1849403\n",
       "Name: cases, dtype: int64"
      ]
     },
     "execution_count": 9,
     "metadata": {},
     "output_type": "execute_result"
    }
   ],
   "source": [
    "uk_data.groupby('countriesAndTerritories').sum()['cases']"
   ]
  },
  {
   "cell_type": "code",
   "execution_count": 18,
   "id": "fc4fe207",
   "metadata": {},
   "outputs": [
    {
     "name": "stdout",
     "output_type": "stream",
     "text": [
      "The total number of confirmed Covid19 Cases in the U.K. as of December 2020 is 1849403. This does not seem to bad when compared to the U.K. total population of around 70 million people. This means that around 3 percent of the population of the U.K. have had Covid19.\n"
     ]
    }
   ],
   "source": [
    "print('The total number of confirmed Covid19 Cases in the U.K. as of December 2020 is 1849403. This does not seem to bad when compared to the U.K. total population of around 70 million people. This means that around 3 percent of the population of the U.K. have had Covid19.')"
   ]
  },
  {
   "cell_type": "markdown",
   "id": "78f352a6",
   "metadata": {},
   "source": [
    "## Number of Confirmed Covid19 Deaths in U.K. as of December 2020"
   ]
  },
  {
   "cell_type": "code",
   "execution_count": 11,
   "id": "2c2314eb",
   "metadata": {},
   "outputs": [
    {
     "data": {
      "text/plain": [
       "countriesAndTerritories\n",
       "United_Kingdom    64170\n",
       "Name: deaths, dtype: int64"
      ]
     },
     "execution_count": 11,
     "metadata": {},
     "output_type": "execute_result"
    }
   ],
   "source": [
    "uk_data.groupby('countriesAndTerritories').sum()['deaths']"
   ]
  },
  {
   "cell_type": "code",
   "execution_count": 19,
   "id": "647a550e",
   "metadata": {},
   "outputs": [
    {
     "name": "stdout",
     "output_type": "stream",
     "text": [
      "The total number of confirmed Covid19 Deaths in the U.K. as of December 2020 is 64170. This is not to bad when compared to the number of people in the U.K. that were infected with Covid19. So around 3.4 percent of people who got Covid19 in the U.K. ending up dying from it.\n"
     ]
    }
   ],
   "source": [
    "print('The total number of confirmed Covid19 Deaths in the U.K. as of December 2020 is 64170. This is not to bad when compared to the number of people in the U.K. that were infected with Covid19. So around 3.4 percent of people who got Covid19 in the U.K. ending up dying from it.')"
   ]
  },
  {
   "cell_type": "markdown",
   "id": "36b51ed9",
   "metadata": {},
   "source": [
    "## How the Number of Cases is Related to the Number of Deaths"
   ]
  },
  {
   "cell_type": "code",
   "execution_count": 13,
   "id": "cc0c6e90",
   "metadata": {},
   "outputs": [
    {
     "data": {
      "text/plain": [
       "<AxesSubplot:xlabel='cases', ylabel='deaths'>"
      ]
     },
     "execution_count": 13,
     "metadata": {},
     "output_type": "execute_result"
    },
    {
     "data": {
      "image/png": "[encoded data removed]",
      "text/plain": [
       "<Figure size 432x288 with 1 Axes>"
      ]
     },
     "metadata": {
      "needs_background": "light"
     },
     "output_type": "display_data"
    }
   ],
   "source": [
    "uk_data.plot.scatter(x='cases',y='deaths')"
   ]
  },
  {
   "cell_type": "code",
   "execution_count": 14,
   "id": "7c8ebc0a",
   "metadata": {},
   "outputs": [
    {
     "name": "stdout",
     "output_type": "stream",
     "text": [
      "Looking at the data you can see there are way more cases in the U.K. than deaths. You can see there is a heavy concentration of cases and deaths in the bottom left corner of the plot. You can see that the deaths seem to get lower and dwindle down. You can also see that the number of cases are kind of sporadic and seem to increase but start to centralize around the 25000 case mark.\n"
     ]
    }
   ],
   "source": [
    "print('Looking at the data you can see there are way more cases in the U.K. than deaths. You can see there is a heavy concentration of cases and deaths in the bottom left corner of the plot. You can see that the deaths seem to get lower and dwindle down. You can also see that the number of cases are kind of sporadic and seem to increase but start to centralize around the 25000 case mark.')"
   ]
  },
  {
   "cell_type": "markdown",
   "id": "894f2525",
   "metadata": {},
   "source": [
    "## Conclusion & Limitations"
   ]
  },
  {
   "cell_type": "code",
   "execution_count": 20,
   "id": "e4498d83",
   "metadata": {},
   "outputs": [
    {
     "name": "stdout",
     "output_type": "stream",
     "text": [
      "The U.K. had significantly more Covid19 cases than deaths. The number of Covid 19 cases in the U.K. was 1849403. The number of Covid19 deaths in the U.K. was 64170. There was no real limitations as there was definitely ample time to get this project done. The only limitation I could think of is that the data being used is from 2020.\n"
     ]
    }
   ],
   "source": [
    "print('The U.K. had significantly more Covid19 cases than deaths. The number of Covid 19 cases in the U.K. was 1849403. The number of Covid19 deaths in the U.K. was 64170. There was no real limitations as there was definitely ample time to get this project done. The only limitation I could think of is that the data being used is from 2020.')"
   ]
  },
  {
   "cell_type": "code",
   "execution_count": null,
   "id": "874e64cb",
   "metadata": {},
   "outputs": [],
   "source": []
  }
 ],
 "metadata": {
  "kernelspec": {
   "display_name": "conda_python3",
   "language": "python",
   "name": "conda_python3"
  },
  "language_info": {
   "codemirror_mode": {
    "name": "ipython",
    "version": 3
   },
   "file_extension": ".py",
   "mimetype": "text/x-python",
   "name": "python",
   "nbconvert_exporter": "python",
   "pygments_lexer": "ipython3",
   "version": "3.6.13"
  }
 },
 "nbformat": 4,
 "nbformat_minor": 5
}
